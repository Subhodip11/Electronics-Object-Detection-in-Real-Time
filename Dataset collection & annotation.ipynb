{
 "cells": [
  {
   "cell_type": "code",
   "execution_count": 1,
   "id": "413e853d",
   "metadata": {},
   "outputs": [
    {
     "name": "stdout",
     "output_type": "stream",
     "text": [
      "Collecting opencv-python\n",
      "  Using cached opencv_python-4.7.0.72-cp37-abi3-win_amd64.whl (38.2 MB)\n",
      "Requirement already satisfied: numpy>=1.21.2 in c:\\users\\hp\\appdata\\local\\programs\\python\\python310\\lib\\site-packages (from opencv-python) (1.24.2)\n",
      "Installing collected packages: opencv-python\n",
      "Successfully installed opencv-python-4.7.0.72\n"
     ]
    }
   ],
   "source": [
    "!pip install opencv-python"
   ]
  },
  {
   "cell_type": "code",
   "execution_count": 1,
   "id": "fb11f7e8",
   "metadata": {},
   "outputs": [],
   "source": [
    "import cv2\n",
    "import uuid\n",
    "import time\n",
    "import os"
   ]
  },
  {
   "cell_type": "code",
   "execution_count": 18,
   "id": "7bdbc8a2",
   "metadata": {},
   "outputs": [],
   "source": [
    "labels = ['mobile']\n",
    "number_of_images = 5"
   ]
  },
  {
   "cell_type": "code",
   "execution_count": 19,
   "id": "4d3e47fc",
   "metadata": {},
   "outputs": [],
   "source": [
    "IMAGE_PATH = os.path.join('Tensorflow', 'workspace', 'images', 'collectedimages')"
   ]
  },
  {
   "cell_type": "code",
   "execution_count": 5,
   "id": "65415492",
   "metadata": {},
   "outputs": [
    {
     "data": {
      "text/plain": [
       "'Tensorflow\\\\workspace\\\\images\\\\collectedimages'"
      ]
     },
     "execution_count": 5,
     "metadata": {},
     "output_type": "execute_result"
    }
   ],
   "source": [
    "IMAGE_PATH"
   ]
  },
  {
   "cell_type": "code",
   "execution_count": 5,
   "id": "5547c467",
   "metadata": {},
   "outputs": [],
   "source": [
    "if not os.path.exists(IMAGE_PATH):\n",
    "    !mkdir {IMAGE_PATH}"
   ]
  },
  {
   "cell_type": "code",
   "execution_count": 20,
   "id": "2097016a",
   "metadata": {},
   "outputs": [],
   "source": [
    "for label in labels:\n",
    "    label_path = os.path.join(IMAGE_PATH, label)\n",
    "    if not os.path.exists(label_path):\n",
    "        !mkdir {label_path}"
   ]
  },
  {
   "cell_type": "code",
   "execution_count": 22,
   "id": "f250b747",
   "metadata": {},
   "outputs": [
    {
     "name": "stdout",
     "output_type": "stream",
     "text": [
      "Collecting image for  mobile\n",
      "Image  mobile-8e31c1f5-c7fa-11ed-8508-9086222f3977.jpg\n",
      "Image  mobile-9132d338-c7fa-11ed-a1e3-9086222f3977.jpg\n",
      "Image  mobile-943404d8-c7fa-11ed-9975-9086222f3977.jpg\n",
      "Image  mobile-9734c7f6-c7fa-11ed-bae2-9086222f3977.jpg\n",
      "Image  mobile-9a358f7a-c7fa-11ed-99b2-9086222f3977.jpg\n"
     ]
    }
   ],
   "source": [
    "for label in labels:\n",
    "    cap = cv2.VideoCapture(0)\n",
    "    print(\"Collecting image for \",label)\n",
    "    time.sleep(5)\n",
    "    for limit in range(number_of_images):\n",
    "        ret, frame = cap.read()\n",
    "        \n",
    "        cv2.imshow(\"Live Feed\", frame)\n",
    "        imgName = os.path.join(IMAGE_PATH, label, label+'-{}.jpg'.format(str(uuid.uuid1())))\n",
    "        print(\"Image \",label+'-{}.jpg'.format(str(uuid.uuid1())))\n",
    "        cv2.imwrite(imgName, frame)\n",
    "        if cv2.waitKey(1) == ord('q'):\n",
    "            break\n",
    "        time.sleep(5)\n",
    "    cap.release()\n",
    "    cv2.destroyAllWindows()"
   ]
  },
  {
   "cell_type": "code",
   "execution_count": 12,
   "id": "52b9e38f",
   "metadata": {},
   "outputs": [
    {
     "name": "stdout",
     "output_type": "stream",
     "text": [
      "Collecting pyqt5\n",
      "  Downloading PyQt5-5.15.9-cp37-abi3-win_amd64.whl (6.8 MB)\n",
      "     ---------------------------------------- 6.8/6.8 MB 3.9 MB/s eta 0:00:00\n",
      "Collecting lxml\n",
      "  Downloading lxml-4.9.2-cp39-cp39-win_amd64.whl (3.9 MB)\n",
      "     ---------------------------------------- 3.9/3.9 MB 3.1 MB/s eta 0:00:00\n",
      "Collecting PyQt5-Qt5>=5.15.2\n",
      "  Downloading PyQt5_Qt5-5.15.2-py3-none-win_amd64.whl (50.1 MB)\n",
      "     ---------------------------------------- 50.1/50.1 MB 3.5 MB/s eta 0:00:00\n",
      "Collecting PyQt5-sip<13,>=12.11\n",
      "  Downloading PyQt5_sip-12.11.1-cp39-cp39-win_amd64.whl (78 kB)\n",
      "     ---------------------------------------- 78.4/78.4 KB 2.2 MB/s eta 0:00:00\n",
      "Installing collected packages: PyQt5-Qt5, PyQt5-sip, lxml, pyqt5\n",
      "Successfully installed PyQt5-Qt5-5.15.2 PyQt5-sip-12.11.1 lxml-4.9.2 pyqt5-5.15.9\n"
     ]
    },
    {
     "name": "stderr",
     "output_type": "stream",
     "text": [
      "WARNING: You are using pip version 22.0.4; however, version 23.0.1 is available.\n",
      "You should consider upgrading via the 'E:\\TensorFlow Object Detection\\TFODCourse\\virtual-environment\\Scripts\\python.exe -m pip install --upgrade pip' command.\n"
     ]
    }
   ],
   "source": [
    "!pip install --upgrade pyqt5 lxml"
   ]
  },
  {
   "cell_type": "code",
   "execution_count": 2,
   "id": "075e9883",
   "metadata": {},
   "outputs": [],
   "source": [
    "LABEL_IMG_PATH = os.path.join('Tensorflow', 'labelimg')"
   ]
  },
  {
   "cell_type": "code",
   "execution_count": 4,
   "id": "c47bac16",
   "metadata": {},
   "outputs": [
    {
     "name": "stderr",
     "output_type": "stream",
     "text": [
      "Cloning into 'Tensorflow\\labelimg'...\n"
     ]
    }
   ],
   "source": [
    "if not os.path.exists(LABEL_IMG_PATH):\n",
    "    !mkdir {LABEL_IMG_PATH}\n",
    "    !git clone https://github.com/tzutalin/labelImg {LABEL_IMG_PATH}"
   ]
  },
  {
   "cell_type": "code",
   "execution_count": 5,
   "id": "f430da84",
   "metadata": {},
   "outputs": [],
   "source": [
    "!cd {LABEL_IMG_PATH} && pyrcc5 -o libs/resources.py resources.qrc"
   ]
  },
  {
   "cell_type": "code",
   "execution_count": 3,
   "id": "ffbe95b3",
   "metadata": {},
   "outputs": [
    {
     "name": "stdout",
     "output_type": "stream",
     "text": [
      "Image:E:\\Tensorflow Object Detection 3\\TFODCourse\\Tensorflow\\workspace\\images\\previous_image_sets\\test1\\allef-vinicius-sGX-7xDnuE0-unsplash.jpg -> Annotation:E:/Tensorflow Object Detection 3/TFODCourse/Tensorflow/workspace/images/previous_image_sets/test1\\allef-vinicius-sGX-7xDnuE0-unsplash.xml\n",
      "Image:E:\\Tensorflow Object Detection 3\\TFODCourse\\Tensorflow\\workspace\\images\\previous_image_sets\\test1\\amir-hanna-sweUF7FcyP4-unsplash.jpg -> Annotation:E:/Tensorflow Object Detection 3/TFODCourse/Tensorflow/workspace/images/previous_image_sets/test1\\amir-hanna-sweUF7FcyP4-unsplash.xml\n",
      "Image:E:\\Tensorflow Object Detection 3\\TFODCourse\\Tensorflow\\workspace\\images\\previous_image_sets\\test1\\andrea-natali-otjiUhq5Zcw-unsplash.jpg -> Annotation:E:/Tensorflow Object Detection 3/TFODCourse/Tensorflow/workspace/images/previous_image_sets/test1\\andrea-natali-otjiUhq5Zcw-unsplash.xml\n",
      "Image:E:\\Tensorflow Object Detection 3\\TFODCourse\\Tensorflow\\workspace\\images\\previous_image_sets\\test1\\cardmapr-nl-5x7Zl8QXFvg-unsplash.jpg -> Annotation:E:/Tensorflow Object Detection 3/TFODCourse/Tensorflow/workspace/images/previous_image_sets/test1\\cardmapr-nl-5x7Zl8QXFvg-unsplash.xml\n",
      "Image:E:\\Tensorflow Object Detection 3\\TFODCourse\\Tensorflow\\workspace\\images\\previous_image_sets\\test1\\charlesdeluvio-6OF-Ly-5oJY-unsplash.jpg -> Annotation:E:/Tensorflow Object Detection 3/TFODCourse/Tensorflow/workspace/images/previous_image_sets/test1\\charlesdeluvio-6OF-Ly-5oJY-unsplash.xml\n",
      "Image:E:\\Tensorflow Object Detection 3\\TFODCourse\\Tensorflow\\workspace\\images\\previous_image_sets\\test1\\close-up-modern-man-accessories.jpg -> Annotation:E:/Tensorflow Object Detection 3/TFODCourse/Tensorflow/workspace/images/previous_image_sets/test1\\close-up-modern-man-accessories.xml\n",
      "Image:E:\\Tensorflow Object Detection 3\\TFODCourse\\Tensorflow\\workspace\\images\\previous_image_sets\\test1\\gilles-de-muynck-gJ9b48mc5qs-unsplash.jpg -> Annotation:E:/Tensorflow Object Detection 3/TFODCourse/Tensorflow/workspace/images/previous_image_sets/test1\\gilles-de-muynck-gJ9b48mc5qs-unsplash.xml\n",
      "Image:E:\\Tensorflow Object Detection 3\\TFODCourse\\Tensorflow\\workspace\\images\\previous_image_sets\\test1\\img-2.jpg -> Annotation:E:/Tensorflow Object Detection 3/TFODCourse/Tensorflow/workspace/images/previous_image_sets/test1\\img-2.xml\n",
      "Image:E:\\Tensorflow Object Detection 3\\TFODCourse\\Tensorflow\\workspace\\images\\previous_image_sets\\test1\\img-6.jpeg -> Annotation:E:/Tensorflow Object Detection 3/TFODCourse/Tensorflow/workspace/images/previous_image_sets/test1\\img-6.xml\n",
      "Cancel creation.\n",
      "Image:E:\\Tensorflow Object Detection 3\\TFODCourse\\Tensorflow\\workspace\\images\\previous_image_sets\\test1\\img-7.jpg -> Annotation:E:/Tensorflow Object Detection 3/TFODCourse/Tensorflow/workspace/images/previous_image_sets/test1\\img-7.xml\n",
      "Image:E:\\Tensorflow Object Detection 3\\TFODCourse\\Tensorflow\\workspace\\images\\previous_image_sets\\test1\\img-7.jpg -> Annotation:E:/Tensorflow Object Detection 3/TFODCourse/Tensorflow/workspace/images/previous_image_sets/test1\\img-7.xml\n",
      "Image:E:\\Tensorflow Object Detection 3\\TFODCourse\\Tensorflow\\workspace\\images\\previous_image_sets\\test1\\img-8.jpeg -> Annotation:E:/Tensorflow Object Detection 3/TFODCourse/Tensorflow/workspace/images/previous_image_sets/test1\\img-8.xml\n",
      "Image:E:\\Tensorflow Object Detection 3\\TFODCourse\\Tensorflow\\workspace\\images\\previous_image_sets\\test1\\img-w-1.jpg -> Annotation:E:/Tensorflow Object Detection 3/TFODCourse/Tensorflow/workspace/images/previous_image_sets/test1\\img-w-1.xml\n",
      "Image:E:\\Tensorflow Object Detection 3\\TFODCourse\\Tensorflow\\workspace\\images\\previous_image_sets\\test1\\jaelynn-castillo-xfNeB1stZ_0-unsplash.jpg -> Annotation:E:/Tensorflow Object Detection 3/TFODCourse/Tensorflow/workspace/images/previous_image_sets/test1\\jaelynn-castillo-xfNeB1stZ_0-unsplash.xml\n",
      "Image:E:\\Tensorflow Object Detection 3\\TFODCourse\\Tensorflow\\workspace\\images\\previous_image_sets\\test1\\jonas-lee-wYVfGtbhNSE-unsplash.jpg -> Annotation:E:/Tensorflow Object Detection 3/TFODCourse/Tensorflow/workspace/images/previous_image_sets/test1\\jonas-lee-wYVfGtbhNSE-unsplash.xml\n",
      "Image:E:\\Tensorflow Object Detection 3\\TFODCourse\\Tensorflow\\workspace\\images\\previous_image_sets\\test1\\kenny-eliason-z3kBG5xIhjo-unsplash.jpg -> Annotation:E:/Tensorflow Object Detection 3/TFODCourse/Tensorflow/workspace/images/previous_image_sets/test1\\kenny-eliason-z3kBG5xIhjo-unsplash.xml\n",
      "Image:E:\\Tensorflow Object Detection 3\\TFODCourse\\Tensorflow\\workspace\\images\\previous_image_sets\\test1\\jonas-lee-wYVfGtbhNSE-unsplash.jpg -> Annotation:E:/Tensorflow Object Detection 3/TFODCourse/Tensorflow/workspace/images/previous_image_sets/test1\\jonas-lee-wYVfGtbhNSE-unsplash.xml\n",
      "Image:E:\\Tensorflow Object Detection 3\\TFODCourse\\Tensorflow\\workspace\\images\\previous_image_sets\\test1\\kiran-ck-UkO7K1CPFS8-unsplash.jpg -> Annotation:E:/Tensorflow Object Detection 3/TFODCourse/Tensorflow/workspace/images/previous_image_sets/test1\\kiran-ck-UkO7K1CPFS8-unsplash.xml\n",
      "Image:E:\\Tensorflow Object Detection 3\\TFODCourse\\Tensorflow\\workspace\\images\\previous_image_sets\\test1\\laura-chouette-2NIAbGMjdR0-unsplash.jpg -> Annotation:E:/Tensorflow Object Detection 3/TFODCourse/Tensorflow/workspace/images/previous_image_sets/test1\\laura-chouette-2NIAbGMjdR0-unsplash.xml\n",
      "Image:E:\\Tensorflow Object Detection 3\\TFODCourse\\Tensorflow\\workspace\\images\\previous_image_sets\\test1\\maxim-ilyahov-0aRycsfH57A-unsplash.jpg -> Annotation:E:/Tensorflow Object Detection 3/TFODCourse/Tensorflow/workspace/images/previous_image_sets/test1\\maxim-ilyahov-0aRycsfH57A-unsplash.xml\n",
      "Image:E:\\Tensorflow Object Detection 3\\TFODCourse\\Tensorflow\\workspace\\images\\previous_image_sets\\test1\\neil-soni-6wdRuK7bVTE-unsplash.jpg -> Annotation:E:/Tensorflow Object Detection 3/TFODCourse/Tensorflow/workspace/images/previous_image_sets/test1\\neil-soni-6wdRuK7bVTE-unsplash.xml\n",
      "Image:E:\\Tensorflow Object Detection 3\\TFODCourse\\Tensorflow\\workspace\\images\\previous_image_sets\\test1\\oscar-nord-8l9VxXI28tY-unsplash.jpg -> Annotation:E:/Tensorflow Object Detection 3/TFODCourse/Tensorflow/workspace/images/previous_image_sets/test1\\oscar-nord-8l9VxXI28tY-unsplash.xml\n",
      "Image:E:\\Tensorflow Object Detection 3\\TFODCourse\\Tensorflow\\workspace\\images\\previous_image_sets\\test1\\pixel-bee-u8isJQ6QjF4-unsplash.jpg -> Annotation:E:/Tensorflow Object Detection 3/TFODCourse/Tensorflow/workspace/images/previous_image_sets/test1\\pixel-bee-u8isJQ6QjF4-unsplash.xml\n",
      "Image:E:\\Tensorflow Object Detection 3\\TFODCourse\\Tensorflow\\workspace\\images\\previous_image_sets\\test1\\plann-8IhVh0xU2Hc-unsplash.jpg -> Annotation:E:/Tensorflow Object Detection 3/TFODCourse/Tensorflow/workspace/images/previous_image_sets/test1\\plann-8IhVh0xU2Hc-unsplash.xml\n",
      "Image:E:\\Tensorflow Object Detection 3\\TFODCourse\\Tensorflow\\workspace\\images\\previous_image_sets\\test1\\rehearsal-preparation-groom-s-watch-hand.jpg -> Annotation:E:/Tensorflow Object Detection 3/TFODCourse/Tensorflow/workspace/images/previous_image_sets/test1\\rehearsal-preparation-groom-s-watch-hand.xml\n",
      "Image:E:\\Tensorflow Object Detection 3\\TFODCourse\\Tensorflow\\workspace\\images\\previous_image_sets\\test1\\timothy-rubby-LGZ1LcBPFs0-unsplash.jpg -> Annotation:E:/Tensorflow Object Detection 3/TFODCourse/Tensorflow/workspace/images/previous_image_sets/test1\\timothy-rubby-LGZ1LcBPFs0-unsplash.xml\n"
     ]
    },
    {
     "name": "stderr",
     "output_type": "stream",
     "text": [
      "qt.gui.icc: fromIccProfile: failed minimal tag size sanity\n",
      "qt.gui.icc: fromIccProfile: failed minimal tag size sanity\n",
      "qt.gui.icc: fromIccProfile: failed minimal tag size sanity\n",
      "qt.gui.icc: fromIccProfile: failed minimal tag size sanity\n",
      "qt.gui.icc: fromIccProfile: failed minimal tag size sanity\n",
      "qt.gui.icc: fromIccProfile: failed minimal tag size sanity\n",
      "qt.gui.icc: fromIccProfile: failed minimal tag size sanity\n",
      "qt.gui.icc: fromIccProfile: failed minimal tag size sanity\n",
      "qt.gui.icc: fromIccProfile: failed minimal tag size sanity\n",
      "qt.gui.icc: fromIccProfile: failed minimal tag size sanity\n",
      "qt.gui.icc: fromIccProfile: failed minimal tag size sanity\n",
      "qt.gui.icc: fromIccProfile: failed minimal tag size sanity\n",
      "qt.gui.icc: fromIccProfile: failed minimal tag size sanity\n",
      "qt.gui.icc: fromIccProfile: failed minimal tag size sanity\n",
      "qt.gui.icc: fromIccProfile: failed minimal tag size sanity\n",
      "qt.gui.icc: fromIccProfile: failed minimal tag size sanity\n",
      "qt.gui.icc: fromIccProfile: failed minimal tag size sanity\n",
      "qt.gui.icc: fromIccProfile: failed minimal tag size sanity\n",
      "qt.gui.icc: fromIccProfile: failed minimal tag size sanity\n",
      "qt.gui.icc: fromIccProfile: failed minimal tag size sanity\n",
      "qt.gui.icc: fromIccProfile: failed minimal tag size sanity\n",
      "qt.gui.icc: fromIccProfile: failed minimal tag size sanity\n"
     ]
    }
   ],
   "source": [
    "!cd {LABEL_IMG_PATH} && python labelImg.py"
   ]
  },
  {
   "cell_type": "code",
   "execution_count": 28,
   "id": "2496c3ad",
   "metadata": {},
   "outputs": [],
   "source": [
    "TRAIN_PATH = os.path.join('Tensorflow', 'workspace','images', 'train')\n",
    "TEST_PATH = os.path.join('Tensorflow', 'workspace', 'images', 'test')"
   ]
  },
  {
   "cell_type": "code",
   "execution_count": 29,
   "id": "5679f28d",
   "metadata": {},
   "outputs": [],
   "source": [
    "if not os.path.exists(TRAIN_PATH):\n",
    "    !mkdir {TRAIN_PATH}\n",
    "if not os.path.exists(TEST_PATH):\n",
    "    !mkdir {TEST_PATH}"
   ]
  }
 ],
 "metadata": {
  "kernelspec": {
   "display_name": "virtual-env3",
   "language": "python",
   "name": "virtual-env3"
  },
  "language_info": {
   "codemirror_mode": {
    "name": "ipython",
    "version": 3
   },
   "file_extension": ".py",
   "mimetype": "text/x-python",
   "name": "python",
   "nbconvert_exporter": "python",
   "pygments_lexer": "ipython3",
   "version": "3.10.2"
  }
 },
 "nbformat": 4,
 "nbformat_minor": 5
}
