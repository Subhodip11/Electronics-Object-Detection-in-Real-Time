{
 "cells": [
  {
   "cell_type": "code",
   "execution_count": 1,
   "id": "3973df50",
   "metadata": {},
   "outputs": [],
   "source": [
    "import os, glob\n",
    "import xml.etree.ElementTree as ET\n",
    "import shutil"
   ]
  },
  {
   "cell_type": "code",
   "execution_count": 4,
   "id": "7b5bca9b",
   "metadata": {},
   "outputs": [],
   "source": [
    "cpFiles = os.listdir('./saved')\n",
    "cpFiles = cpFiles[0:5000]\n",
    "for file in cpFiles:\n",
    "    shutil.copy('./saved/'+file, './slicedAnn/'+file)"
   ]
  },
  {
   "cell_type": "code",
   "execution_count": 2,
   "id": "92975502",
   "metadata": {},
   "outputs": [],
   "source": [
    "catSet = set()\n",
    "electronics = ['Mobile-phone', 'Watch', 'Television', 'Camera']\n",
    "electronicsRes = ['mobile','mobile-phone', 'cell-phone', 'watch', 'wristWatch', 'trafficLight','tv','television', 'camera', 'remote-control', 'oven', 'refrigerator', 'remote', 'keyboard', 'hair-dryer', 'clock', 'laptop', 'microwave', 'mouse']\n",
    "files = os.listdir('./train')\n",
    "fileNameWithoutExtension = []\n",
    "#print(electronicsRes.index('watch'))"
   ]
  },
  {
   "cell_type": "code",
   "execution_count": 4,
   "id": "ee88e569",
   "metadata": {},
   "outputs": [],
   "source": [
    "electronicCount = 0\n",
    "for k in range(0, len(files)):\n",
    "    file = files[k].split('.')\n",
    "    if file[len(file)-1] == 'xml':\n",
    "        fileName = './train/'+files[k]\n",
    "        tree = ET.parse(fileName)\n",
    "        root = tree.getroot()\n",
    "        for ele in root.findall('object'):\n",
    "            text = ele.find('name').text\n",
    "            if text == electronics[0]:\n",
    "                ele.find('name').text = \"mobile\" \n",
    "            elif text == electronics[1]:\n",
    "                ele.find('name').text = 'watch'\n",
    "            elif text == electronics[2]:\n",
    "                ele.find('name').text = 'television'\n",
    "            elif text == electronics[3]:\n",
    "                ele.find('name').text = 'camera'''\n",
    "        tree.write(fileName)"
   ]
  },
  {
   "cell_type": "code",
   "execution_count": 3,
   "id": "7fc869c3",
   "metadata": {},
   "outputs": [],
   "source": [
    "electronicCount = 0\n",
    "arr = os.listdir('./test')\n",
    "\n",
    "for k in range(0, len(arr)):\n",
    "    file = arr[k].split('.')\n",
    "    if file[len(file)-1] == 'xml':\n",
    "        fileName = './test/'+arr[k]\n",
    "        tree = ET.parse(fileName)\n",
    "        root = tree.getroot()\n",
    "        for ele in root.findall('object'):\n",
    "            text = ele.find('name').text\n",
    "            if text == 'wristWatch':\n",
    "                ele.find('name').text = \"Watch\"\n",
    "            if text == 'mobile':\n",
    "                ele.find('name').text = \"Mobile-phone\"\n",
    "        tree.write(fileName)\n"
   ]
  },
  {
   "cell_type": "code",
   "execution_count": 6,
   "id": "a3a10235",
   "metadata": {},
   "outputs": [],
   "source": [
    "electronicCount = 0\n",
    "arr = os.listdir('./final_test')\n",
    "\n",
    "for k in range(0, len(arr)):\n",
    "    file = arr[k].split('.')\n",
    "    if file[len(file)-1] == 'xml':\n",
    "        fileName = './final_test/'+arr[k]\n",
    "        tree = ET.parse(fileName)\n",
    "        root = tree.getroot()\n",
    "        for ele in root.findall('object'):\n",
    "            text = ele.find('name').text\n",
    "            if text == 'wristWatch':\n",
    "                ele.find('name').text = \"Watch\"\n",
    "            if text == 'mobile':\n",
    "                ele.find('name').text = \"Mobile-phone\"\n",
    "        tree.write(fileName)"
   ]
  },
  {
   "cell_type": "code",
   "execution_count": 3,
   "id": "e1b6d323",
   "metadata": {},
   "outputs": [
    {
     "ename": "FileNotFoundError",
     "evalue": "[WinError 3] The system cannot find the path specified: './testSaved'",
     "output_type": "error",
     "traceback": [
      "\u001b[1;31m---------------------------------------------------------------------------\u001b[0m",
      "\u001b[1;31mFileNotFoundError\u001b[0m                         Traceback (most recent call last)",
      "Cell \u001b[1;32mIn[3], line 1\u001b[0m\n\u001b[1;32m----> 1\u001b[0m \u001b[38;5;28;01mfor\u001b[39;00m xmlFile \u001b[38;5;129;01min\u001b[39;00m \u001b[43mos\u001b[49m\u001b[38;5;241;43m.\u001b[39;49m\u001b[43mlistdir\u001b[49m\u001b[43m(\u001b[49m\u001b[38;5;124;43m'\u001b[39;49m\u001b[38;5;124;43m./testSaved\u001b[39;49m\u001b[38;5;124;43m'\u001b[39;49m\u001b[43m)\u001b[49m:\n\u001b[0;32m      2\u001b[0m     fileNameWithoutExtension\u001b[38;5;241m.\u001b[39mappend(xmlFile\u001b[38;5;241m.\u001b[39msplit(\u001b[38;5;124m'\u001b[39m\u001b[38;5;124m.\u001b[39m\u001b[38;5;124m'\u001b[39m)[\u001b[38;5;241m0\u001b[39m]\u001b[38;5;241m+\u001b[39m\u001b[38;5;124m'\u001b[39m\u001b[38;5;124m.jpg\u001b[39m\u001b[38;5;124m'\u001b[39m)\n",
      "\u001b[1;31mFileNotFoundError\u001b[0m: [WinError 3] The system cannot find the path specified: './testSaved'"
     ]
    }
   ],
   "source": [
    "for xmlFile in os.listdir('./testSaved'):\n",
    "    fileNameWithoutExtension.append(xmlFile.split('.')[0]+'.jpg')"
   ]
  },
  {
   "cell_type": "code",
   "execution_count": 7,
   "id": "bb1ee625",
   "metadata": {},
   "outputs": [
    {
     "name": "stdout",
     "output_type": "stream",
     "text": [
      "{'Watch', 'Mobile-phone'}\n"
     ]
    }
   ],
   "source": [
    "checkClasses = set()\n",
    "arr = os.listdir('./final_test')\n",
    "for xmlFile in arr:\n",
    "    file = xmlFile.split('.')\n",
    "    if file[len(file)-1] == 'xml':\n",
    "        fileName = './final_test/'+xmlFile\n",
    "        tree = ET.parse(fileName)\n",
    "        root = tree.getroot()\n",
    "        for ele in root.findall('object'):\n",
    "            text = ele.find('name').text\n",
    "            checkClasses.add(text)\n",
    "print((checkClasses))"
   ]
  },
  {
   "cell_type": "code",
   "execution_count": 10,
   "id": "d52cdb80",
   "metadata": {},
   "outputs": [
    {
     "name": "stdout",
     "output_type": "stream",
     "text": [
      "Number of bounding boxes with \"Watch\" object : 2038\n",
      "Number of bounding boxes \"Mobile-phone\" object : 2153\n"
     ]
    }
   ],
   "source": [
    "presenceClasses = {'Watch': 0, 'Mobile-phone': 0}\n",
    "arr = os.listdir('./train_2_June')\n",
    "for xmlFile in arr:\n",
    "    file = xmlFile.split('.')\n",
    "    if file[len(file)-1] == 'xml':\n",
    "        fileName = './train_2_June/'+xmlFile\n",
    "        tree = ET.parse(fileName)\n",
    "        root = tree.getroot()\n",
    "        for ele in root.findall('object'):\n",
    "            text = ele.find('name').text\n",
    "            if text == 'Watch':\n",
    "                presenceClasses['Watch']+=1\n",
    "                checkWatch = False\n",
    "            if text == 'Mobile-phone':\n",
    "                presenceClasses['Mobile-phone']+=1\n",
    "\n",
    "print('Number of bounding boxes with \"Watch\" object :',presenceClasses['Watch'])\n",
    "print('Number of bounding boxes \"Mobile-phone\" object :',presenceClasses['Mobile-phone'])"
   ]
  },
  {
   "cell_type": "code",
   "execution_count": 17,
   "id": "c1791338",
   "metadata": {},
   "outputs": [],
   "source": [
    "for img in os.listdir('../train2017'):\n",
    "    if img in fileNameWithoutExtension:\n",
    "        shutil.copy('../train2017/'+img, './testSaved/'+img)"
   ]
  },
  {
   "cell_type": "code",
   "execution_count": 6,
   "id": "f8a4c69d",
   "metadata": {},
   "outputs": [],
   "source": [
    "cnt = 0\n",
    "for k in range(0, len(files)):\n",
    "    fileName = './slicedAnn/'+files[k]\n",
    "    tree = ET.parse(fileName)\n",
    "    root = tree.getroot()\n",
    "    for obj in root.iter('object'):\n",
    "        for i in obj.iter('name'):\n",
    "            catName = i.text\n",
    "            if catName == 'electronics':\n",
    "                cnt+=1"
   ]
  },
  {
   "cell_type": "code",
   "execution_count": 6,
   "id": "4a440865",
   "metadata": {},
   "outputs": [],
   "source": [
    "counter=0\n",
    "for file in os.listdir('./saved'):\n",
    "#     print(file)\n",
    "    fn = file.split(\".\")\n",
    "    if fn[1] == 'jpg':\n",
    "        if not os.path.exists('./saved/'+fn[0]+'.xml'):\n",
    "            os.remove('./saved/'+file)\n",
    "#         counter+=1\n",
    "# print(counter)"
   ]
  },
  {
   "cell_type": "code",
   "execution_count": 26,
   "id": "109aae3c",
   "metadata": {},
   "outputs": [
    {
     "name": "stdout",
     "output_type": "stream",
     "text": [
      "4952\n"
     ]
    }
   ],
   "source": [
    "counter=0\n",
    "for file in os.listdir('./saved'):\n",
    "#     print(file)\n",
    "    fn = file.split(\".\")\n",
    "    if fn[1] == 'xml':\n",
    "        counter+=1\n",
    "print(counter)"
   ]
  },
  {
   "cell_type": "code",
   "execution_count": 8,
   "id": "9d5aaa05",
   "metadata": {},
   "outputs": [],
   "source": [
    "for img in os.listdir('../train2017'):\n",
    "    imgName = img.split('.')[0]\n",
    "    if imgName in fileNameWithoutExtension:\n",
    "        shutil.copy('../train2017/'+img, './slicedAnn/'+img)  "
   ]
  },
  {
   "cell_type": "code",
   "execution_count": 2,
   "id": "184924f2",
   "metadata": {},
   "outputs": [],
   "source": [
    "from os import listdir,remove\n",
    "from os.path import isfile, join\n",
    "\n",
    "images_path = \"./testAnn\"\n",
    "annotations_path = \"./testAnn\"\n",
    "\n",
    "\n",
    "# this function will help to retrieve all files with provided extension in a given folder\n",
    "def get_files_names_with_extension(full_path, ext):\n",
    "    return [f for f in listdir(full_path) if isfile(join(full_path, f)) and f.lower().endswith(\".{}\".format(ext))]\n",
    "\n",
    "\n",
    "images = get_files_names_with_extension(images_path, \"jpg\")\n",
    "annotations = set([f.split(\".\")[0] for f in get_files_names_with_extension(annotations_path, \"xml\")])\n",
    "\n",
    "for img in images:\n",
    "    if img.split(\".\")[0] not in annotations:\n",
    "        remove(join(images_path, img))"
   ]
  },
  {
   "cell_type": "code",
   "execution_count": 17,
   "id": "e86248c3",
   "metadata": {},
   "outputs": [
    {
     "data": {
      "text/plain": [
       "'E:\\\\Tensorflow Object Detection 3\\\\TFODCourse\\\\Tensorflow\\\\workspace\\\\images'"
      ]
     },
     "execution_count": 17,
     "metadata": {},
     "output_type": "execute_result"
    }
   ],
   "source": [
    "pwd"
   ]
  },
  {
   "cell_type": "code",
   "execution_count": 2,
   "id": "d42dbc1f",
   "metadata": {},
   "outputs": [
    {
     "name": "stdout",
     "output_type": "stream",
     "text": [
      "60\n"
     ]
    }
   ],
   "source": [
    "classes = set()\n",
    "cnt=0\n",
    "arr = os.listdir('./valid')\n",
    "for xmlFile in arr:\n",
    "    file = xmlFile.split('.')\n",
    "    if file[len(file)-1] == 'xml':\n",
    "        cnt+=1\n",
    "print(cnt)"
   ]
  },
  {
   "cell_type": "code",
   "execution_count": 4,
   "id": "39c24a60",
   "metadata": {},
   "outputs": [],
   "source": [
    "electronicCount = 0\n",
    "arr = os.listdir('./valid1')\n",
    "\n",
    "for k in range(0, len(arr)):\n",
    "    file = arr[k].split('.')\n",
    "    if file[len(file)-1] == 'xml':\n",
    "        fileName = './valid1/'+arr[k]\n",
    "        tree = ET.parse(fileName)\n",
    "        root = tree.getroot()\n",
    "        for ele in root.findall('object'):\n",
    "            text = ele.find('name').text\n",
    "            if text == 'watch':\n",
    "                ele.find('name').text = \"Watch\"\n",
    "            if text == 'mobile':\n",
    "                ele.find('name').text = \"Mobile-phone\"\n",
    "        tree.write(fileName)"
   ]
  },
  {
   "cell_type": "code",
   "execution_count": 7,
   "id": "decd43fa",
   "metadata": {},
   "outputs": [
    {
     "ename": "FileNotFoundError",
     "evalue": "[WinError 2] The system cannot find the file specified: './valid/27b01a51a7b0538c_jpg.rf.38208934c12d4fbaeaa91c3f5b331f91.xml'",
     "output_type": "error",
     "traceback": [
      "\u001b[1;31m---------------------------------------------------------------------------\u001b[0m",
      "\u001b[1;31mFileNotFoundError\u001b[0m                         Traceback (most recent call last)",
      "Cell \u001b[1;32mIn[7], line 18\u001b[0m\n\u001b[0;32m     16\u001b[0m                 cnt\u001b[38;5;241m+\u001b[39m\u001b[38;5;241m=\u001b[39m\u001b[38;5;241m1\u001b[39m\n\u001b[0;32m     17\u001b[0m \u001b[38;5;66;03m#                 os.remove('./valid/'+'.'.join(imgName)+'.jpg')\u001b[39;00m\n\u001b[1;32m---> 18\u001b[0m                 \u001b[43mos\u001b[49m\u001b[38;5;241;43m.\u001b[39;49m\u001b[43mremove\u001b[49m\u001b[43m(\u001b[49m\u001b[38;5;124;43m'\u001b[39;49m\u001b[38;5;124;43m./valid/\u001b[39;49m\u001b[38;5;124;43m'\u001b[39;49m\u001b[38;5;241;43m+\u001b[39;49m\u001b[43mxmlFile\u001b[49m\u001b[43m)\u001b[49m\n",
      "\u001b[1;31mFileNotFoundError\u001b[0m: [WinError 2] The system cannot find the file specified: './valid/27b01a51a7b0538c_jpg.rf.38208934c12d4fbaeaa91c3f5b331f91.xml'"
     ]
    }
   ],
   "source": [
    "classes = set()\n",
    "arr = os.listdir('./train_2_June')\n",
    "cnt = 0\n",
    "for xmlFile in arr:\n",
    "    file = xmlFile.split('.')\n",
    "    if file[len(file)-1] == 'xml':\n",
    "        fileName = './train_2_June/'+xmlFile\n",
    "        tree = ET.parse(fileName)\n",
    "        root = tree.getroot()\n",
    "        for ele in root.findall('object'):\n",
    "            text = ele.find('name').text\n",
    "            if text == 'Mobile-phone' and cnt<50:\n",
    "#                 print('./valid/'+xmlFile)\n",
    "                imgName = file[:len(file)-1]\n",
    "#                 print('./valid/'+'.'.join(imgName)+'.jpg')\n",
    "                cnt+=1\n",
    "#                 os.remove('./valid/'+'.'.join(imgName)+'.jpg')\n",
    "                os.remove('./valid/'+xmlFile)"
   ]
  },
  {
   "cell_type": "code",
   "execution_count": 8,
   "id": "e92e580d",
   "metadata": {},
   "outputs": [
    {
     "name": "stdout",
     "output_type": "stream",
     "text": [
      "Collecting pylabel\n",
      "  Downloading pylabel-0.1.51-py3-none-any.whl (25 kB)\n",
      "Requirement already satisfied: opencv-python in c:\\users\\hp\\appdata\\local\\programs\\python\\python310\\lib\\site-packages (from pylabel) (4.7.0.72)\n",
      "Collecting jupyter-bbox-widget\n",
      "  Downloading jupyter_bbox_widget-0.5.0-py2.py3-none-any.whl (367 kB)\n",
      "     ---------------------------------------- 0.0/367.8 kB ? eta -:--:--\n",
      "     --------- ----------------------------- 92.2/367.8 kB 2.6 MB/s eta 0:00:01\n",
      "     ---------------------------- --------- 276.5/367.8 kB 3.4 MB/s eta 0:00:01\n",
      "     -------------------------------------  358.4/367.8 kB 3.2 MB/s eta 0:00:01\n",
      "     -------------------------------------- 367.8/367.8 kB 2.9 MB/s eta 0:00:00\n",
      "Collecting bbox-visualizer\n",
      "  Downloading bbox_visualizer-0.1.0-py2.py3-none-any.whl (6.2 kB)\n",
      "Requirement already satisfied: pandas in c:\\users\\hp\\appdata\\local\\programs\\python\\python310\\lib\\site-packages (from pylabel) (1.5.3)\n",
      "Requirement already satisfied: matplotlib in c:\\users\\hp\\appdata\\local\\programs\\python\\python310\\lib\\site-packages (from pylabel) (3.7.1)\n",
      "Requirement already satisfied: pyyaml in c:\\users\\hp\\appdata\\local\\programs\\python\\python310\\lib\\site-packages (from pylabel) (6.0)\n",
      "Collecting scikit-learn\n",
      "  Using cached scikit_learn-1.2.2-cp310-cp310-win_amd64.whl (8.3 MB)\n",
      "Requirement already satisfied: tqdm in c:\\users\\hp\\appdata\\local\\programs\\python\\python310\\lib\\site-packages (from pylabel) (4.65.0)\n",
      "Requirement already satisfied: ipywidgets>=7.0.0 in c:\\users\\hp\\appdata\\local\\programs\\python\\python310\\lib\\site-packages (from jupyter-bbox-widget->pylabel) (8.0.4)\n",
      "Requirement already satisfied: pyparsing>=2.3.1 in c:\\users\\hp\\appdata\\local\\programs\\python\\python310\\lib\\site-packages (from matplotlib->pylabel) (3.0.9)\n",
      "Requirement already satisfied: python-dateutil>=2.7 in c:\\users\\hp\\appdata\\local\\programs\\python\\python310\\lib\\site-packages (from matplotlib->pylabel) (2.8.2)\n",
      "Requirement already satisfied: cycler>=0.10 in c:\\users\\hp\\appdata\\local\\programs\\python\\python310\\lib\\site-packages (from matplotlib->pylabel) (0.11.0)\n",
      "Requirement already satisfied: packaging>=20.0 in c:\\users\\hp\\appdata\\local\\programs\\python\\python310\\lib\\site-packages (from matplotlib->pylabel) (20.9)\n",
      "Requirement already satisfied: fonttools>=4.22.0 in c:\\users\\hp\\appdata\\local\\programs\\python\\python310\\lib\\site-packages (from matplotlib->pylabel) (4.38.0)\n",
      "Requirement already satisfied: pillow>=6.2.0 in c:\\users\\hp\\appdata\\local\\programs\\python\\python310\\lib\\site-packages (from matplotlib->pylabel) (9.4.0)\n",
      "Requirement already satisfied: contourpy>=1.0.1 in c:\\users\\hp\\appdata\\local\\programs\\python\\python310\\lib\\site-packages (from matplotlib->pylabel) (1.0.7)\n",
      "Requirement already satisfied: numpy>=1.20 in c:\\users\\hp\\appdata\\local\\programs\\python\\python310\\lib\\site-packages (from matplotlib->pylabel) (1.24.2)\n",
      "Requirement already satisfied: kiwisolver>=1.0.1 in c:\\users\\hp\\appdata\\local\\programs\\python\\python310\\lib\\site-packages (from matplotlib->pylabel) (1.4.4)\n",
      "Requirement already satisfied: pytz>=2020.1 in c:\\users\\hp\\appdata\\local\\programs\\python\\python310\\lib\\site-packages (from pandas->pylabel) (2022.7.1)\n",
      "Collecting joblib>=1.1.1\n",
      "  Using cached joblib-1.2.0-py3-none-any.whl (297 kB)\n",
      "Collecting threadpoolctl>=2.0.0\n",
      "  Using cached threadpoolctl-3.1.0-py3-none-any.whl (14 kB)\n",
      "Collecting scipy>=1.3.2\n",
      "  Using cached scipy-1.10.1-cp310-cp310-win_amd64.whl (42.5 MB)\n",
      "Requirement already satisfied: colorama in c:\\users\\hp\\appdata\\local\\programs\\python\\python310\\lib\\site-packages (from tqdm->pylabel) (0.4.6)\n",
      "Requirement already satisfied: widgetsnbextension~=4.0 in c:\\users\\hp\\appdata\\local\\programs\\python\\python310\\lib\\site-packages (from ipywidgets>=7.0.0->jupyter-bbox-widget->pylabel) (4.0.5)\n",
      "Requirement already satisfied: ipykernel>=4.5.1 in c:\\users\\hp\\appdata\\local\\programs\\python\\python310\\lib\\site-packages (from ipywidgets>=7.0.0->jupyter-bbox-widget->pylabel) (6.21.2)\n",
      "Requirement already satisfied: traitlets>=4.3.1 in c:\\users\\hp\\appdata\\local\\programs\\python\\python310\\lib\\site-packages (from ipywidgets>=7.0.0->jupyter-bbox-widget->pylabel) (5.9.0)\n",
      "Requirement already satisfied: jupyterlab-widgets~=3.0 in c:\\users\\hp\\appdata\\local\\programs\\python\\python310\\lib\\site-packages (from ipywidgets>=7.0.0->jupyter-bbox-widget->pylabel) (3.0.5)\n",
      "Requirement already satisfied: ipython>=6.1.0 in c:\\users\\hp\\appdata\\local\\programs\\python\\python310\\lib\\site-packages (from ipywidgets>=7.0.0->jupyter-bbox-widget->pylabel) (8.11.0)\n",
      "Requirement already satisfied: six>=1.5 in c:\\users\\hp\\appdata\\local\\programs\\python\\python310\\lib\\site-packages (from python-dateutil>=2.7->matplotlib->pylabel) (1.16.0)\n",
      "Requirement already satisfied: jupyter-core!=5.0.*,>=4.12 in c:\\users\\hp\\appdata\\local\\programs\\python\\python310\\lib\\site-packages (from ipykernel>=4.5.1->ipywidgets>=7.0.0->jupyter-bbox-widget->pylabel) (5.2.0)\n",
      "Requirement already satisfied: comm>=0.1.1 in c:\\users\\hp\\appdata\\local\\programs\\python\\python310\\lib\\site-packages (from ipykernel>=4.5.1->ipywidgets>=7.0.0->jupyter-bbox-widget->pylabel) (0.1.2)\n",
      "Requirement already satisfied: psutil in c:\\users\\hp\\appdata\\local\\programs\\python\\python310\\lib\\site-packages (from ipykernel>=4.5.1->ipywidgets>=7.0.0->jupyter-bbox-widget->pylabel) (5.9.4)\n",
      "Requirement already satisfied: jupyter-client>=6.1.12 in c:\\users\\hp\\appdata\\local\\programs\\python\\python310\\lib\\site-packages (from ipykernel>=4.5.1->ipywidgets>=7.0.0->jupyter-bbox-widget->pylabel) (8.0.3)\n",
      "Requirement already satisfied: pyzmq>=20 in c:\\users\\hp\\appdata\\local\\programs\\python\\python310\\lib\\site-packages (from ipykernel>=4.5.1->ipywidgets>=7.0.0->jupyter-bbox-widget->pylabel) (25.0.0)\n",
      "Requirement already satisfied: matplotlib-inline>=0.1 in c:\\users\\hp\\appdata\\local\\programs\\python\\python310\\lib\\site-packages (from ipykernel>=4.5.1->ipywidgets>=7.0.0->jupyter-bbox-widget->pylabel) (0.1.6)\n",
      "Requirement already satisfied: nest-asyncio in c:\\users\\hp\\appdata\\local\\programs\\python\\python310\\lib\\site-packages (from ipykernel>=4.5.1->ipywidgets>=7.0.0->jupyter-bbox-widget->pylabel) (1.5.6)\n",
      "Requirement already satisfied: tornado>=6.1 in c:\\users\\hp\\appdata\\local\\programs\\python\\python310\\lib\\site-packages (from ipykernel>=4.5.1->ipywidgets>=7.0.0->jupyter-bbox-widget->pylabel) (6.2)\n",
      "Requirement already satisfied: debugpy>=1.6.5 in c:\\users\\hp\\appdata\\local\\programs\\python\\python310\\lib\\site-packages (from ipykernel>=4.5.1->ipywidgets>=7.0.0->jupyter-bbox-widget->pylabel) (1.6.6)\n",
      "Requirement already satisfied: jedi>=0.16 in c:\\users\\hp\\appdata\\local\\programs\\python\\python310\\lib\\site-packages (from ipython>=6.1.0->ipywidgets>=7.0.0->jupyter-bbox-widget->pylabel) (0.18.2)\n",
      "Requirement already satisfied: stack-data in c:\\users\\hp\\appdata\\local\\programs\\python\\python310\\lib\\site-packages (from ipython>=6.1.0->ipywidgets>=7.0.0->jupyter-bbox-widget->pylabel) (0.6.2)\n",
      "Requirement already satisfied: pygments>=2.4.0 in c:\\users\\hp\\appdata\\local\\programs\\python\\python310\\lib\\site-packages (from ipython>=6.1.0->ipywidgets>=7.0.0->jupyter-bbox-widget->pylabel) (2.14.0)\n",
      "Requirement already satisfied: pickleshare in c:\\users\\hp\\appdata\\local\\programs\\python\\python310\\lib\\site-packages (from ipython>=6.1.0->ipywidgets>=7.0.0->jupyter-bbox-widget->pylabel) (0.7.5)\n",
      "Requirement already satisfied: prompt-toolkit!=3.0.37,<3.1.0,>=3.0.30 in c:\\users\\hp\\appdata\\local\\programs\\python\\python310\\lib\\site-packages (from ipython>=6.1.0->ipywidgets>=7.0.0->jupyter-bbox-widget->pylabel) (3.0.38)\n",
      "Requirement already satisfied: backcall in c:\\users\\hp\\appdata\\local\\programs\\python\\python310\\lib\\site-packages (from ipython>=6.1.0->ipywidgets>=7.0.0->jupyter-bbox-widget->pylabel) (0.2.0)\n",
      "Requirement already satisfied: decorator in c:\\users\\hp\\appdata\\local\\programs\\python\\python310\\lib\\site-packages (from ipython>=6.1.0->ipywidgets>=7.0.0->jupyter-bbox-widget->pylabel) (5.1.1)\n",
      "Requirement already satisfied: parso<0.9.0,>=0.8.0 in c:\\users\\hp\\appdata\\local\\programs\\python\\python310\\lib\\site-packages (from jedi>=0.16->ipython>=6.1.0->ipywidgets>=7.0.0->jupyter-bbox-widget->pylabel) (0.8.3)\n",
      "Requirement already satisfied: pywin32>=1.0 in c:\\users\\hp\\appdata\\local\\programs\\python\\python310\\lib\\site-packages (from jupyter-core!=5.0.*,>=4.12->ipykernel>=4.5.1->ipywidgets>=7.0.0->jupyter-bbox-widget->pylabel) (305)\n",
      "Requirement already satisfied: platformdirs>=2.5 in c:\\users\\hp\\appdata\\local\\programs\\python\\python310\\lib\\site-packages (from jupyter-core!=5.0.*,>=4.12->ipykernel>=4.5.1->ipywidgets>=7.0.0->jupyter-bbox-widget->pylabel) (3.0.0)\n",
      "Requirement already satisfied: wcwidth in c:\\users\\hp\\appdata\\local\\programs\\python\\python310\\lib\\site-packages (from prompt-toolkit!=3.0.37,<3.1.0,>=3.0.30->ipython>=6.1.0->ipywidgets>=7.0.0->jupyter-bbox-widget->pylabel) (0.2.6)\n",
      "Requirement already satisfied: asttokens>=2.1.0 in c:\\users\\hp\\appdata\\local\\programs\\python\\python310\\lib\\site-packages (from stack-data->ipython>=6.1.0->ipywidgets>=7.0.0->jupyter-bbox-widget->pylabel) (2.2.1)\n",
      "Requirement already satisfied: pure-eval in c:\\users\\hp\\appdata\\local\\programs\\python\\python310\\lib\\site-packages (from stack-data->ipython>=6.1.0->ipywidgets>=7.0.0->jupyter-bbox-widget->pylabel) (0.2.2)\n",
      "Requirement already satisfied: executing>=1.2.0 in c:\\users\\hp\\appdata\\local\\programs\\python\\python310\\lib\\site-packages (from stack-data->ipython>=6.1.0->ipywidgets>=7.0.0->jupyter-bbox-widget->pylabel) (1.2.0)\n",
      "Installing collected packages: threadpoolctl, scipy, joblib, bbox-visualizer, scikit-learn, jupyter-bbox-widget, pylabel\n",
      "Successfully installed bbox-visualizer-0.1.0 joblib-1.2.0 jupyter-bbox-widget-0.5.0 pylabel-0.1.51 scikit-learn-1.2.2 scipy-1.10.1 threadpoolctl-3.1.0\n"
     ]
    },
    {
     "name": "stderr",
     "output_type": "stream",
     "text": [
      "\n",
      "[notice] A new release of pip is available: 23.0.1 -> 23.1.2\n",
      "[notice] To update, run: python.exe -m pip install --upgrade pip\n"
     ]
    }
   ],
   "source": [
    "!pip install pylabel"
   ]
  },
  {
   "cell_type": "code",
   "execution_count": 9,
   "id": "8986a501",
   "metadata": {
    "scrolled": true
   },
   "outputs": [
    {
     "name": "stdout",
     "output_type": "stream",
     "text": [
      "0000b9115cdf1e54.txt-->start!\n"
     ]
    },
    {
     "ename": "KeyError",
     "evalue": "'Mobile'",
     "output_type": "error",
     "traceback": [
      "\u001b[1;31m---------------------------------------------------------------------------\u001b[0m",
      "\u001b[1;31mKeyError\u001b[0m                                  Traceback (most recent call last)",
      "Cell \u001b[1;32mIn[9], line 171\u001b[0m\n\u001b[0;32m    169\u001b[0m     filename \u001b[38;5;241m=\u001b[39m xml_path \u001b[38;5;241m+\u001b[39m os\u001b[38;5;241m.\u001b[39mpath\u001b[38;5;241m.\u001b[39msplitext(file)[\u001b[38;5;241m0\u001b[39m] \u001b[38;5;241m+\u001b[39m \u001b[38;5;124m'\u001b[39m\u001b[38;5;124m.xml\u001b[39m\u001b[38;5;124m'\u001b[39m\n\u001b[0;32m    170\u001b[0m     \u001b[38;5;66;03m# Call the function\u001b[39;00m\n\u001b[1;32m--> 171\u001b[0m     \u001b[43mwriteXml\u001b[49m\u001b[43m(\u001b[49m\u001b[43mtemp\u001b[49m\u001b[43m,\u001b[49m\u001b[43m \u001b[49m\u001b[43mimg_name\u001b[49m\u001b[43m,\u001b[49m\u001b[43m \u001b[49m\u001b[43mwidth\u001b[49m\u001b[43m,\u001b[49m\u001b[43m \u001b[49m\u001b[43mheight\u001b[49m\u001b[43m,\u001b[49m\u001b[43m \u001b[49m\u001b[43mobj\u001b[49m\u001b[43m,\u001b[49m\u001b[43m \u001b[49m\u001b[43mfilename\u001b[49m\u001b[43m,\u001b[49m\u001b[43m \u001b[49m\u001b[38;5;28;43mdict\u001b[39;49m\u001b[43m)\u001b[49m\n\u001b[0;32m    172\u001b[0m os\u001b[38;5;241m.\u001b[39mrmdir(temp)\n",
      "Cell \u001b[1;32mIn[9], line 54\u001b[0m, in \u001b[0;36mwriteXml\u001b[1;34m(tmp, imgname, w, h, objbud, wxml, dict)\u001b[0m\n\u001b[0;32m     52\u001b[0m name \u001b[38;5;241m=\u001b[39m doc\u001b[38;5;241m.\u001b[39mcreateElement(\u001b[38;5;124m'\u001b[39m\u001b[38;5;124mname\u001b[39m\u001b[38;5;124m'\u001b[39m)\n\u001b[0;32m     53\u001b[0m object_new\u001b[38;5;241m.\u001b[39mappendChild(name)\n\u001b[1;32m---> 54\u001b[0m name_txt \u001b[38;5;241m=\u001b[39m doc\u001b[38;5;241m.\u001b[39mcreateTextNode(\u001b[38;5;28;43mdict\u001b[39;49m\u001b[43m[\u001b[49m\u001b[43mobjbuds\u001b[49m\u001b[43m[\u001b[49m\u001b[38;5;241;43m0\u001b[39;49m\u001b[43m]\u001b[49m\u001b[43m]\u001b[49m)\n\u001b[0;32m     55\u001b[0m name\u001b[38;5;241m.\u001b[39mappendChild(name_txt)\n\u001b[0;32m     57\u001b[0m \u001b[38;5;66;03m# pose = doc.createElement('pose')\u001b[39;00m\n\u001b[0;32m     58\u001b[0m \u001b[38;5;66;03m# object_new.appendChild(pose)\u001b[39;00m\n\u001b[0;32m     59\u001b[0m \u001b[38;5;66;03m# pose_txt = doc.createTextNode(\"Unspecified\")\u001b[39;00m\n\u001b[1;32m   (...)\u001b[0m\n\u001b[0;32m     71\u001b[0m \n\u001b[0;32m     72\u001b[0m \u001b[38;5;66;03m# threes-1#\u001b[39;00m\n",
      "\u001b[1;31mKeyError\u001b[0m: 'Mobile'"
     ]
    }
   ],
   "source": [
    "import os\n",
    "import glob\n",
    "import pandas as pd\n",
    "\n",
    "def yolo_to_csv(yolo_dir,destination_dir):\n",
    "    os.chdir(yolo_dir)\n",
    "    myFiles = glob.glob('*.txt')\n",
    "    classes=[]\n",
    "    with open(yolo_dir+'/classes.names','rt') as f:\n",
    "        for l in f.readlines():\n",
    "            classes.append(l[:-1])\n",
    "\n",
    "    width=1024\n",
    "    height=1024\n",
    "    image_id=0\n",
    "    final_df=[]\n",
    "    for item in myFiles:\n",
    "\n",
    "\n",
    "        image_id+=1\n",
    "        with open(item, 'rt') as fd:\n",
    "            for line in fd.readlines():\n",
    "                row = []\n",
    "                bbox_temp = []\n",
    "                splited = line.split()\n",
    "                print(splited)\n",
    "                try:\n",
    "                    row.append(classes[int(splited[0])])\n",
    "\n",
    "                    #print(row)\n",
    "\n",
    "                    row.append(splited[1])\n",
    "                    row.append(splited[2])\n",
    "                    row.append(splited[3])\n",
    "                    row.append(splited[4])\n",
    "                    row.append(item[:-4]+\".png\")\n",
    "                    row.append(width)\n",
    "                    row.append(height)\n",
    "                    final_df.append(row)\n",
    "\n",
    "                except:\n",
    "                    pass\n",
    "    df = pd.DataFrame(final_df)\n",
    "    df.to_csv(destination_dir+\"/saved.csv\",index=False)"
   ]
  },
  {
   "cell_type": "code",
   "execution_count": null,
   "id": "3c8e8273",
   "metadata": {},
   "outputs": [],
   "source": []
  }
 ],
 "metadata": {
  "kernelspec": {
   "display_name": "Python 3 (ipykernel)",
   "language": "python",
   "name": "python3"
  },
  "language_info": {
   "codemirror_mode": {
    "name": "ipython",
    "version": 3
   },
   "file_extension": ".py",
   "mimetype": "text/x-python",
   "name": "python",
   "nbconvert_exporter": "python",
   "pygments_lexer": "ipython3",
   "version": "3.10.2"
  }
 },
 "nbformat": 4,
 "nbformat_minor": 5
}
